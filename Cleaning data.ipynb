{
 "cells": [
  {
   "cell_type": "code",
   "execution_count": 26,
   "metadata": {
    "collapsed": false
   },
   "outputs": [
    {
     "name": "stdout",
     "output_type": "stream",
     "text": [
      "       Job #  Doc #        Borough       House #  \\\n",
      "0  121577873      2      MANHATTAN  386            \n",
      "1  520129502      1  STATEN ISLAND  107            \n",
      "2  121601560      1      MANHATTAN  63             \n",
      "3  121601203      1      MANHATTAN  48             \n",
      "4  121601338      1      MANHATTAN  45             \n",
      "\n",
      "                        Street Name  Block  Lot    Bin # Job Type Job Status  \\\n",
      "0  PARK AVENUE SOUTH                   857   38  1016890       A2          D   \n",
      "1  KNOX PLACE                          342    1  5161350       A3          A   \n",
      "2  WEST 131 STREET                    1729    9  1053831       A2          Q   \n",
      "3  WEST 25TH STREET                    826   69  1015610       A2          D   \n",
      "4  WEST 29 STREET                      831    7  1015754       A3          D   \n",
      "\n",
      "            ...                         Owner's Last Name  \\\n",
      "0           ...            MIGLIORE                         \n",
      "1           ...            BLUMENBERG                       \n",
      "2           ...            MARKOWITZ                        \n",
      "3           ...            CASALE                           \n",
      "4           ...            LEE                              \n",
      "\n",
      "              Owner's Business Name Owner's House Number  \\\n",
      "0  MACKLOWE MANAGEMENT                      126            \n",
      "1  NA                                       107            \n",
      "2  635 RIVERSIDE DRIVE NY LLC               619            \n",
      "3  48 W 25 ST LLC C/O BERNSTEIN             150            \n",
      "4  HYUNG-HYANG REALTY CORP                  614            \n",
      "\n",
      "           Owner'sHouse Street Name            City  State      Zip  \\\n",
      "0  EAST 56TH STREET                  NEW YORK           NY  10222.0   \n",
      "1  KNOX PLACE                        STATEN ISLAND      NY  10314.0   \n",
      "2  WEST 54TH STREET                  NEW YORK           NY  10016.0   \n",
      "3  WEST 30TH STREET                  NEW YORK           NY  10001.0   \n",
      "4  8 AVENUE                          NEW YORK           NY  10001.0   \n",
      "\n",
      "  Owner'sPhone #                                    Job Description  \\\n",
      "0   2.125546e+09  GENERAL MECHANICAL & PLUMBING MODIFICATIONS AS...   \n",
      "1   3.477399e+09  BUILDERS PAVEMENT PLAN 143 LF.                ...   \n",
      "2   2.127653e+09  GENERAL CONSTRUCTION TO INCLUDE NEW PARTITIONS...   \n",
      "3   2.125941e+09  STRUCTURAL CHANGES ON THE 5TH FLOOR (MOONDOG E...   \n",
      "4   2.019881e+09  FILING HEREWITH FACADE REPAIR PLANS. WORK SCOP...   \n",
      "\n",
      "               DOBRunDate  \n",
      "0  04/26/2013 12:00:00 AM  \n",
      "1  04/26/2013 12:00:00 AM  \n",
      "2  04/26/2013 12:00:00 AM  \n",
      "3  04/26/2013 12:00:00 AM  \n",
      "4  04/26/2013 12:00:00 AM  \n",
      "\n",
      "[5 rows x 82 columns]\n",
      "          Job #  Doc #    Borough       House #  \\\n",
      "3954  420841557      1     QUEENS  71-26          \n",
      "3955  121612255      1  MANHATTAN  1113           \n",
      "3956  121589003      1  MANHATTAN  4              \n",
      "3957  121614217      1  MANHATTAN  24             \n",
      "3958  320753706      1   BROOKLYN  241            \n",
      "\n",
      "                           Street Name  Block  Lot    Bin # Job Type  \\\n",
      "3954  58TH AVENUE                        2819   82  4063192       A2   \n",
      "3955  YORK AVENUE                        1455   21  1045277       A3   \n",
      "3956  TIMES SQUARE                        995    5  1085682       A3   \n",
      "3957  WEST 8TH STREET                     551   22  1008858       A2   \n",
      "3958  11TH STREET                        1015   46  3022488       DM   \n",
      "\n",
      "     Job Status           ...                         Owner's Last Name  \\\n",
      "3954          P           ...            MARANON                          \n",
      "3955          R           ...            PENDER                           \n",
      "3956          R           ...            BUETTNER                         \n",
      "3957          D           ...            BUCHBINDER                       \n",
      "3958          E           ...                                       NaN   \n",
      "\n",
      "                 Owner's Business Name Owner's House Number  \\\n",
      "3954  N/A                                      71-26          \n",
      "3955  SAFWAY ATLANTIC, LLC                     700            \n",
      "3956  YORK SCAFFOLD EQUIPMENT CORP.            37-20          \n",
      "3957  JEN & CO LLC                             1              \n",
      "3958                               NaN                  NaN   \n",
      "\n",
      "              Owner'sHouse Street Name            City  State      Zip  \\\n",
      "3954  58TH AVENUE                       QUEENS             NY  11378.0   \n",
      "3955  COMMERCIAL AVENUE                 CARLSTADT          NJ   7072.0   \n",
      "3956  12 STREET                         LIC                NY  11101.0   \n",
      "3957   UNION SQUARE WEST                NEW YORK           NY  10003.0   \n",
      "3958                               NaN              NaN   NaN      NaN   \n",
      "\n",
      "     Owner'sPhone #                                    Job Description  \\\n",
      "3954   7.189308e+09  MINOR WORK TO BE DONE AS PER PLANS. NO CHANGE ...   \n",
      "3955   2.016366e+09  INSTALLATION OF OVERHEAD PROTECTION AS PER DRA...   \n",
      "3956   7.187847e+09  INSTALLATION OF 280 LINEAR FEET OF HEAVY DUTY ...   \n",
      "3957   2.122437e+09  DEMOLISH AND CONSTRUCT INTERIOR PARTITIONS, CE...   \n",
      "3958            NaN                                                NaN   \n",
      "\n",
      "                  DOBRunDate  \n",
      "3954  05/10/2013 12:00:00 AM  \n",
      "3955  05/10/2013 12:00:00 AM  \n",
      "3956  05/10/2013 12:00:00 AM  \n",
      "3957  05/10/2013 12:00:00 AM  \n",
      "3958                     NaN  \n",
      "\n",
      "[5 rows x 82 columns]\n",
      "(3959, 82)\n",
      "Index(['Job #', 'Doc #', 'Borough', 'House #', 'Street Name', 'Block', 'Lot',\n",
      "       'Bin #', 'Job Type', 'Job Status', 'Job Status Descrp',\n",
      "       'Latest Action Date', 'Building Type', 'Community - Board', 'Cluster',\n",
      "       'Landmarked', 'Adult Estab', 'Loft Board', 'City Owned', 'Little e',\n",
      "       'PC Filed', 'eFiling Filed', 'Plumbing', 'Mechanical', 'Boiler',\n",
      "       'Fuel Burning', 'Fuel Storage', 'Standpipe', 'Sprinkler', 'Fire Alarm',\n",
      "       'Equipment', 'Fire Suppression', 'Curb Cut', 'Other',\n",
      "       'Other Description', 'Applicant's First Name', 'Applicant's Last Name',\n",
      "       'Applicant Professional Title', 'Applicant License #',\n",
      "       'Professional Cert', 'Pre- Filing Date', 'Paid', 'Fully Paid',\n",
      "       'Assigned', 'Approved', 'Fully Permitted', 'Initial Cost',\n",
      "       'Total Est. Fee', 'Fee Status', 'Existing Zoning Sqft',\n",
      "       'Proposed Zoning Sqft', 'Horizontal Enlrgmt', 'Vertical Enlrgmt',\n",
      "       'Enlargement SQ Footage', 'Street Frontage', 'ExistingNo. of Stories',\n",
      "       'Proposed No. of Stories', 'Existing Height', 'Proposed Height',\n",
      "       'Existing Dwelling Units', 'Proposed Dwelling Units',\n",
      "       'Existing Occupancy', 'Proposed Occupancy', 'Site Fill', 'Zoning Dist1',\n",
      "       'Zoning Dist2', 'Zoning Dist3', 'Special District 1',\n",
      "       'Special District 2', 'Owner Type', 'Non-Profit', 'Owner's First Name',\n",
      "       'Owner's Last Name', 'Owner's Business Name', 'Owner's House Number',\n",
      "       'Owner'sHouse Street Name', 'City ', 'State', 'Zip', 'Owner'sPhone #',\n",
      "       'Job Description', 'DOBRunDate'],\n",
      "      dtype='object')\n"
     ]
    }
   ],
   "source": [
    "\"\"\"Cleaning data\"\"\"\n",
    "# Import pandas\n",
    "import pandas as pd\n",
    "\n",
    "# Read the file into a DataFrame: df\n",
    "df = pd.read_csv('dob_job_application_filings_subset.csv')\n",
    "\n",
    "# Print the head of df\n",
    "print(df.head())\n",
    "\n",
    "# Print the tail of df\n",
    "print(df.tail())\n",
    "\n",
    "# Print the shape of df\n",
    "print(df.shape)\n",
    "\n",
    "# Print the columns of df\n",
    "print(df.columns)"
   ]
  },
  {
   "cell_type": "code",
   "execution_count": null,
   "metadata": {
    "collapsed": false
   },
   "outputs": [],
   "source": [
    "\"\"\"Visual EDA\"\"\"\n",
    "# Import matplotlib.pyplot\n",
    "import matplotlib.pyplot as plt\n",
    "\n",
    "# Plot the histogram\n",
    "df['Existing Zoning Sqft'].plot(kind='hist', rot=70, logx=True, logy=True)\n",
    "\n",
    "# Display the histogram\n",
    "plt.show()\n",
    "plt.clf()\n",
    "\n",
    "# Create the boxplot\n",
    "df.boxplot(column='initial_cost', by='Borough', rot=90)\n",
    "\n",
    "# Display the plot\n",
    "plt.show()\n",
    "\n",
    "# Create and display the first scatter plot\n",
    "df.plot(kind='scatter', x='initial_cost', y='total_est_fee', rot=70)\n",
    "plt.show()\n",
    "\n",
    "# Create and display the second scatter plot\n",
    "df_subset.plot(kind='scatter',x='initial_cost',y='total_est_fee',rot=70)\n",
    "plt.show()\n",
    "\n"
   ]
  },
  {
   "cell_type": "code",
   "execution_count": 54,
   "metadata": {
    "collapsed": false
   },
   "outputs": [
    {
     "name": "stdout",
     "output_type": "stream",
     "text": [
      "   Ozone  Solar.R  Wind  Temp  Month  Day\n",
      "0   41.0    190.0   7.4    67      5    1\n",
      "1   36.0    118.0   8.0    72      5    2\n",
      "2   12.0    149.0  12.6    74      5    3\n",
      "3   18.0    313.0  11.5    62      5    4\n",
      "4    NaN      NaN  14.3    56      5    5\n",
      "   Month  Day variable  value\n",
      "0      5    1    Ozone   41.0\n",
      "1      5    2    Ozone   36.0\n",
      "2      5    3    Ozone   12.0\n",
      "3      5    4    Ozone   18.0\n",
      "4      5    5    Ozone    NaN\n",
      "   Month  Day measurement  reading\n",
      "0      5    1       Ozone     41.0\n",
      "1      5    2       Ozone     36.0\n",
      "2      5    3       Ozone     12.0\n",
      "3      5    4       Ozone     18.0\n",
      "4      5    5       Ozone      NaN\n"
     ]
    }
   ],
   "source": [
    "\"\"\"Melt\"\"\"\n",
    "# Read the data from csv\n",
    "airquality=pd.read_csv('airquality.csv')\n",
    "\n",
    "# Print the head of airquality\n",
    "print(airquality.head())\n",
    "\n",
    "# Melt airquality: airquality_melt\n",
    "airquality_melt = pd.melt(frame=airquality,id_vars=['Month','Day'],value_vars=['Ozone','Solar.R','Wind','Temp'])\n",
    "\n",
    "# Print the head of airquality_melt\n",
    "print(airquality_melt.head())\n",
    "\n",
    "# Melt airquality: airquality_melt\n",
    "airquality_melt = pd.melt(frame=airquality,id_vars=['Month','Day'], var_name='measurement',value_name='reading')\n",
    "\n",
    "# Print the head of airquality_melt\n",
    "print(airquality_melt.head())"
   ]
  },
  {
   "cell_type": "code",
   "execution_count": 62,
   "metadata": {
    "collapsed": false
   },
   "outputs": [
    {
     "name": "stdout",
     "output_type": "stream",
     "text": [
      "   Month  Day measurement  reading\n",
      "0      5    1       Ozone     41.0\n",
      "1      5    2       Ozone     36.0\n",
      "2      5    3       Ozone     12.0\n",
      "3      5    4       Ozone     18.0\n",
      "4      5    5       Ozone      NaN\n",
      "measurement  Ozone  Solar.R  Temp  Wind\n",
      "Month Day                              \n",
      "5     1       41.0    190.0  67.0   7.4\n",
      "      2       36.0    118.0  72.0   8.0\n",
      "      3       12.0    149.0  74.0  12.6\n",
      "      4       18.0    313.0  62.0  11.5\n",
      "      5        NaN      NaN  56.0  14.3\n",
      "MultiIndex(levels=[[5, 6, 7, 8, 9], [1, 2, 3, 4, 5, 6, 7, 8, 9, 10, 11, 12, 13, 14, 15, 16, 17, 18, 19, 20, 21, 22, 23, 24, 25, 26, 27, 28, 29, 30, 31]],\n",
      "           labels=[[0, 0, 0, 0, 0, 0, 0, 0, 0, 0, 0, 0, 0, 0, 0, 0, 0, 0, 0, 0, 0, 0, 0, 0, 0, 0, 0, 0, 0, 0, 0, 1, 1, 1, 1, 1, 1, 1, 1, 1, 1, 1, 1, 1, 1, 1, 1, 1, 1, 1, 1, 1, 1, 1, 1, 1, 1, 1, 1, 1, 1, 2, 2, 2, 2, 2, 2, 2, 2, 2, 2, 2, 2, 2, 2, 2, 2, 2, 2, 2, 2, 2, 2, 2, 2, 2, 2, 2, 2, 2, 2, 2, 3, 3, 3, 3, 3, 3, 3, 3, 3, 3, 3, 3, 3, 3, 3, 3, 3, 3, 3, 3, 3, 3, 3, 3, 3, 3, 3, 3, 3, 3, 3, 4, 4, 4, 4, 4, 4, 4, 4, 4, 4, 4, 4, 4, 4, 4, 4, 4, 4, 4, 4, 4, 4, 4, 4, 4, 4, 4, 4, 4, 4], [0, 1, 2, 3, 4, 5, 6, 7, 8, 9, 10, 11, 12, 13, 14, 15, 16, 17, 18, 19, 20, 21, 22, 23, 24, 25, 26, 27, 28, 29, 30, 0, 1, 2, 3, 4, 5, 6, 7, 8, 9, 10, 11, 12, 13, 14, 15, 16, 17, 18, 19, 20, 21, 22, 23, 24, 25, 26, 27, 28, 29, 0, 1, 2, 3, 4, 5, 6, 7, 8, 9, 10, 11, 12, 13, 14, 15, 16, 17, 18, 19, 20, 21, 22, 23, 24, 25, 26, 27, 28, 29, 30, 0, 1, 2, 3, 4, 5, 6, 7, 8, 9, 10, 11, 12, 13, 14, 15, 16, 17, 18, 19, 20, 21, 22, 23, 24, 25, 26, 27, 28, 29, 30, 0, 1, 2, 3, 4, 5, 6, 7, 8, 9, 10, 11, 12, 13, 14, 15, 16, 17, 18, 19, 20, 21, 22, 23, 24, 25, 26, 27, 28, 29]],\n",
      "           names=['Month', 'Day'])\n",
      "RangeIndex(start=0, stop=153, step=1)\n",
      "measurement  Month  Day  Ozone  Solar.R  Temp  Wind\n",
      "0                5    1   41.0    190.0  67.0   7.4\n",
      "1                5    2   36.0    118.0  72.0   8.0\n",
      "2                5    3   12.0    149.0  74.0  12.6\n",
      "3                5    4   18.0    313.0  62.0  11.5\n",
      "4                5    5    NaN      NaN  56.0  14.3\n"
     ]
    }
   ],
   "source": [
    "\"\"\"Pivot, Pivot table and handling missing values\"\"\"\n",
    "# Print the head of airquality_melt\n",
    "print(airquality_melt.head())\n",
    "\n",
    "# Pivot airquality_melt: airquality_pivot\n",
    "airquality_pivot = airquality_melt.pivot_table(index=['Month','Day'], columns='measurement', values='reading',aggfunc=np.mean)\n",
    "\n",
    "# Print the head of airquality_pivot\n",
    "print(airquality_pivot.head())\n",
    "\n",
    "# Print the index of airquality_pivot\n",
    "print(airquality_pivot.index)\n",
    "\n",
    "# Reset the index of airquality_pivot: airquality_pivot\n",
    "airquality_pivot = airquality_pivot.reset_index()\n",
    "\n",
    "# Print the new index of airquality_pivot\n",
    "print(airquality_pivot.index)\n",
    "\n",
    "# Print the head of airquality_pivot\n",
    "print(airquality_pivot.head())\n"
   ]
  },
  {
   "cell_type": "code",
   "execution_count": 68,
   "metadata": {
    "collapsed": false
   },
   "outputs": [
    {
     "name": "stdout",
     "output_type": "stream",
     "text": [
      "  country  year   m014  m1524   m2534  m3544  m4554  m5564    m65  mu   f014  \\\n",
      "0      AD  2000    0.0    0.0     1.0    0.0    0.0    0.0    0.0 NaN    NaN   \n",
      "1      AE  2000    2.0    4.0     4.0    6.0    5.0   12.0   10.0 NaN    3.0   \n",
      "2      AF  2000   52.0  228.0   183.0  149.0  129.0   94.0   80.0 NaN   93.0   \n",
      "3      AG  2000    0.0    0.0     0.0    0.0    0.0    0.0    1.0 NaN    1.0   \n",
      "4      AL  2000    2.0   19.0    21.0   14.0   24.0   19.0   16.0 NaN    3.0   \n",
      "5      AM  2000    2.0  152.0   130.0  131.0   63.0   26.0   21.0 NaN    1.0   \n",
      "6      AN  2000    0.0    0.0     1.0    2.0    0.0    0.0    0.0 NaN    0.0   \n",
      "7      AO  2000  186.0  999.0  1003.0  912.0  482.0  312.0  194.0 NaN  247.0   \n",
      "8      AR  2000   97.0  278.0   594.0  402.0  419.0  368.0  330.0 NaN  121.0   \n",
      "9      AS  2000    NaN    NaN     NaN    NaN    1.0    1.0    NaN NaN    NaN   \n",
      "\n",
      "    f1524   f2534  f3544  f4554  f5564    f65  fu  \n",
      "0     NaN     NaN    NaN    NaN    NaN    NaN NaN  \n",
      "1    16.0     1.0    3.0    0.0    0.0    4.0 NaN  \n",
      "2   414.0   565.0  339.0  205.0   99.0   36.0 NaN  \n",
      "3     1.0     1.0    0.0    0.0    0.0    0.0 NaN  \n",
      "4    11.0    10.0    8.0    8.0    5.0   11.0 NaN  \n",
      "5    24.0    27.0   24.0    8.0    8.0    4.0 NaN  \n",
      "6     0.0     1.0    0.0    0.0    1.0    0.0 NaN  \n",
      "7  1142.0  1091.0  844.0  417.0  200.0  120.0 NaN  \n",
      "8   544.0   479.0  262.0  230.0  179.0  216.0 NaN  \n",
      "9     NaN     NaN    NaN    1.0    NaN    NaN NaN  \n",
      "  country  year variable  value gender age_group\n",
      "0      AD  2000     m014    0.0      m       014\n",
      "1      AE  2000     m014    2.0      m       014\n",
      "2      AF  2000     m014   52.0      m       014\n",
      "3      AG  2000     m014    0.0      m       014\n",
      "4      AL  2000     m014    2.0      m       014\n"
     ]
    }
   ],
   "source": [
    "\"\"\"Splitting data using str\"\"\"\n",
    "# Melt tb: tb_melt\n",
    "tb=pd.read_csv('tb.csv')\n",
    "print(tb.head(10))\n",
    "tb_melt = pd.melt(frame=tb, id_vars=['country', 'year'])\n",
    "\n",
    "# Create the 'gender' column\n",
    "tb_melt['gender'] = tb_melt.variable.str[0]\n",
    "\n",
    "# Create the 'age_group' column\n",
    "tb_melt['age_group'] = tb_melt.variable.str[1:]\n",
    "\n",
    "# Print the head of tb_melt\n",
    "print(tb_melt.head())\n"
   ]
  },
  {
   "cell_type": "code",
   "execution_count": 72,
   "metadata": {
    "collapsed": false
   },
   "outputs": [
    {
     "name": "stdout",
     "output_type": "stream",
     "text": [
      "         Date  Day  type_country  counts        str_split   type country\n",
      "0    1/5/2015  289  Cases_Guinea  2776.0  [Cases, Guinea]  Cases  Guinea\n",
      "1    1/4/2015  288  Cases_Guinea  2775.0  [Cases, Guinea]  Cases  Guinea\n",
      "2    1/3/2015  287  Cases_Guinea  2769.0  [Cases, Guinea]  Cases  Guinea\n",
      "3    1/2/2015  286  Cases_Guinea     NaN  [Cases, Guinea]  Cases  Guinea\n",
      "4  12/31/2014  284  Cases_Guinea  2730.0  [Cases, Guinea]  Cases  Guinea\n"
     ]
    }
   ],
   "source": [
    "# Melt ebola: ebola_melt\n",
    "ebola=pd.read_csv('ebola.csv')\n",
    "ebola_melt = pd.melt(ebola, id_vars=['Date', 'Day'], var_name='type_country', value_name='counts')\n",
    "\n",
    "# Create the 'str_split' column\n",
    "ebola_melt['str_split'] = ebola_melt.type_country.str.split('_')\n",
    "\n",
    "# Create the 'type' column\n",
    "ebola_melt['type'] =ebola_melt['str_split'].str.get(0)\n",
    "\n",
    "# Create the 'country' column\n",
    "ebola_melt['country'] = ebola_melt['str_split'].str.get(1)\n",
    "\n",
    "# Print the head of ebola_melt\n",
    "print(ebola_melt.head())\n"
   ]
  },
  {
   "cell_type": "code",
   "execution_count": 127,
   "metadata": {
    "collapsed": false
   },
   "outputs": [
    {
     "name": "stdout",
     "output_type": "stream",
     "text": [
      "(297, 5)\n",
      "     Base BaseX         Date/Time      Lat      Lon\n",
      "0  B02512   NaN  4/1/2014 0:11:00  40.7690 -73.9549\n",
      "1  B02512   NaN  4/1/2014 0:17:00  40.7267 -74.0345\n",
      "2  B02512   NaN  4/1/2014 0:21:00  40.7316 -73.9873\n",
      "3  B02512   NaN  4/1/2014 0:28:00  40.7588 -73.9776\n",
      "4  B02512   NaN  4/1/2014 0:33:00  40.7594 -73.9722\n"
     ]
    }
   ],
   "source": [
    "\"\"\"Concat\"\"\"\n",
    "# Concatenate uber1, uber2, and uber3: row_concat\n",
    "row_concat = pd.concat([uber1,uber2,uber3])\n",
    "\n",
    "# Print the shape of row_concat\n",
    "print(row_concat.shape)\n",
    "\n",
    "# Print the head of row_concat\n",
    "print(row_concat.head())\n"
   ]
  },
  {
   "cell_type": "code",
   "execution_count": 84,
   "metadata": {
    "collapsed": false
   },
   "outputs": [
    {
     "name": "stdout",
     "output_type": "stream",
     "text": [
      "['airquality.csv', 'cars.csv', 'digits.csv', 'dob_job_application_filings_subset.csv', 'ebola.csv', 'movie_metadata.csv', 'one.csv', 'tb.csv', 'uber1.csv', 'uber2.csv', 'uber3.csv', 'winequality-red.csv']\n",
      "  Unnamed: 0  cars_per_cap        country drives_right\n",
      "0         US           809  United States         True\n",
      "1        AUS           731      Australia        False\n",
      "2        JAP           588          Japan        False\n",
      "3         IN            18          India        False\n",
      "4         RU           200         Russia         True\n"
     ]
    }
   ],
   "source": [
    "import glob \n",
    "\n",
    "# Write the pattern: pattern\n",
    "pattern = '*.csv'\n",
    "\n",
    "# Save all file matches: csv_files\n",
    "csv_files = glob.glob(pattern)\n",
    "\n",
    "# Print the file names\n",
    "print(csv_files)\n",
    "\n",
    "# Load the second file into a DataFrame: csv2\n",
    "csv2 = pd.read_csv(csv_files[1])\n",
    "\n",
    "# Print the head of csv2\n",
    "print(csv2.head())\n"
   ]
  },
  {
   "cell_type": "code",
   "execution_count": 128,
   "metadata": {
    "collapsed": false
   },
   "outputs": [
    {
     "data": {
      "text/html": [
       "<div>\n",
       "<table border=\"1\" class=\"dataframe\">\n",
       "  <thead>\n",
       "    <tr style=\"text-align: right;\">\n",
       "      <th></th>\n",
       "      <th>Date/Time_x</th>\n",
       "      <th>Lat_x</th>\n",
       "      <th>Lon_x</th>\n",
       "      <th>Base_x</th>\n",
       "      <th>Date/Time_y</th>\n",
       "      <th>Lat_y</th>\n",
       "      <th>Lon_y</th>\n",
       "      <th>Base_y</th>\n",
       "      <th>BaseX</th>\n",
       "    </tr>\n",
       "  </thead>\n",
       "  <tbody>\n",
       "    <tr>\n",
       "      <th>0</th>\n",
       "      <td>4/1/2014 0:11:00</td>\n",
       "      <td>40.769</td>\n",
       "      <td>-73.9549</td>\n",
       "      <td>B02512</td>\n",
       "      <td>5/1/2014 0:02</td>\n",
       "      <td>40.7521</td>\n",
       "      <td>-73.9914</td>\n",
       "      <td>B02512</td>\n",
       "      <td>B02512</td>\n",
       "    </tr>\n",
       "    <tr>\n",
       "      <th>1</th>\n",
       "      <td>4/1/2014 0:11:00</td>\n",
       "      <td>40.769</td>\n",
       "      <td>-73.9549</td>\n",
       "      <td>B02512</td>\n",
       "      <td>5/1/2014 0:06</td>\n",
       "      <td>40.6965</td>\n",
       "      <td>-73.9715</td>\n",
       "      <td>B02512</td>\n",
       "      <td>B02512</td>\n",
       "    </tr>\n",
       "    <tr>\n",
       "      <th>2</th>\n",
       "      <td>4/1/2014 0:11:00</td>\n",
       "      <td>40.769</td>\n",
       "      <td>-73.9549</td>\n",
       "      <td>B02512</td>\n",
       "      <td>5/1/2014 0:15</td>\n",
       "      <td>40.7464</td>\n",
       "      <td>-73.9838</td>\n",
       "      <td>B02512</td>\n",
       "      <td>B02512</td>\n",
       "    </tr>\n",
       "    <tr>\n",
       "      <th>3</th>\n",
       "      <td>4/1/2014 0:11:00</td>\n",
       "      <td>40.769</td>\n",
       "      <td>-73.9549</td>\n",
       "      <td>B02512</td>\n",
       "      <td>5/1/2014 0:17</td>\n",
       "      <td>40.7463</td>\n",
       "      <td>-74.0011</td>\n",
       "      <td>B02512</td>\n",
       "      <td>B02512</td>\n",
       "    </tr>\n",
       "    <tr>\n",
       "      <th>4</th>\n",
       "      <td>4/1/2014 0:11:00</td>\n",
       "      <td>40.769</td>\n",
       "      <td>-73.9549</td>\n",
       "      <td>B02512</td>\n",
       "      <td>5/1/2014 0:17</td>\n",
       "      <td>40.7594</td>\n",
       "      <td>-73.9734</td>\n",
       "      <td>B02512</td>\n",
       "      <td>B02512</td>\n",
       "    </tr>\n",
       "  </tbody>\n",
       "</table>\n",
       "</div>"
      ],
      "text/plain": [
       "        Date/Time_x   Lat_x    Lon_x  Base_x    Date/Time_y    Lat_y    Lon_y  \\\n",
       "0  4/1/2014 0:11:00  40.769 -73.9549  B02512  5/1/2014 0:02  40.7521 -73.9914   \n",
       "1  4/1/2014 0:11:00  40.769 -73.9549  B02512  5/1/2014 0:06  40.6965 -73.9715   \n",
       "2  4/1/2014 0:11:00  40.769 -73.9549  B02512  5/1/2014 0:15  40.7464 -73.9838   \n",
       "3  4/1/2014 0:11:00  40.769 -73.9549  B02512  5/1/2014 0:17  40.7463 -74.0011   \n",
       "4  4/1/2014 0:11:00  40.769 -73.9549  B02512  5/1/2014 0:17  40.7594 -73.9734   \n",
       "\n",
       "   Base_y   BaseX  \n",
       "0  B02512  B02512  \n",
       "1  B02512  B02512  \n",
       "2  B02512  B02512  \n",
       "3  B02512  B02512  \n",
       "4  B02512  B02512  "
      ]
     },
     "execution_count": 128,
     "metadata": {},
     "output_type": "execute_result"
    }
   ],
   "source": [
    "\"\"\"Merge\"\"\"\n",
    "# For one-to-one\n",
    "# Merge the DataFrames: o2o\n",
    "o2o = pd.merge(left=uber1, right=uber2, left_on='Base', right_on='BaseX')\n",
    "o2o.head()\n",
    "\n",
    "# Below is the code without output due to the non-availability of dataset,mentioning the sample\n",
    "# For one-to-many/many-to-one\n",
    "# Merge the DataFrames: m2o\n",
    "m2o = pd.merge(left=uber1,right=uber2,left_on='column in left',right_on='column in right')\n",
    "\n",
    "# Merge site and visited: m2m\n",
    "m2m = pd.merge(left=uber1, right=uber2, left_on='column in left', right_on='column in right')\n",
    "\n",
    "# Merge m2m and survey: m2m\n",
    "m2m = pd.merge(left=m2m, right=uber3, left_on='column in left', right_on='column in right')"
   ]
  },
  {
   "cell_type": "code",
   "execution_count": 130,
   "metadata": {
    "collapsed": false
   },
   "outputs": [
    {
     "name": "stdout",
     "output_type": "stream",
     "text": [
      "<class 'pandas.core.frame.DataFrame'>\n",
      "RangeIndex: 244 entries, 0 to 243\n",
      "Data columns (total 7 columns):\n",
      "total_bill    244 non-null float64\n",
      "tip           244 non-null float64\n",
      "sex           244 non-null object\n",
      "smoker        244 non-null object\n",
      "day           244 non-null object\n",
      "time          244 non-null object\n",
      "size          244 non-null int64\n",
      "dtypes: float64(2), int64(1), object(4)\n",
      "memory usage: 13.4+ KB\n",
      "None\n"
     ]
    }
   ],
   "source": [
    "\"\"\"Datatype handling\"\"\"\n",
    "# reading CSV\n",
    "tips=pd.read_csv('tips.csv')\n",
    "# Convert 'total_bill' to a numeric dtype\n",
    "tips['total_bill'] = pd.to_numeric(tips['total_bill'], errors='coerce')\n",
    "\n",
    "# Convert 'tip' to a numeric dtype\n",
    "tips['tip'] = pd.to_numeric(tips['tip'],errors='coerce')\n",
    "\n",
    "# Print the info of tips\n",
    "print(tips.info())\n"
   ]
  },
  {
   "cell_type": "code",
   "execution_count": 133,
   "metadata": {
    "collapsed": false
   },
   "outputs": [
    {
     "name": "stdout",
     "output_type": "stream",
     "text": [
      "True\n",
      "False\n",
      "['10', '1']\n",
      "True\n",
      "True\n",
      "True\n"
     ]
    }
   ],
   "source": [
    "\"\"\"Using regex\"\"\"\n",
    "# Import the regular expression module\n",
    "import re\n",
    "\n",
    "# Compile the pattern: prog\n",
    "prog = re.compile('\\d{3}-\\d{3}-\\d{4}')\n",
    "\n",
    "# See if the pattern matches\n",
    "result = prog.match('123-456-7890')\n",
    "print(bool(result))\n",
    "\n",
    "# See if the pattern matches\n",
    "result = prog.match('1123-456-7890')\n",
    "print(bool(result))\n",
    "# Find the numeric values: matches\n",
    "matches = re.findall('\\d+', 'The receipe calls for 10 strawberries and 1 banana')\n",
    "\n",
    "# Print the matches\n",
    "print(matches)\n",
    "# Write the first pattern\n",
    "pattern1 = bool(re.match(pattern='\\d{3}-\\d{3}-\\d{4}', string='123-456-7890'))\n",
    "print(pattern1)\n",
    "\n",
    "# Write the second pattern\n",
    "pattern2 = bool(re.match(pattern='\\$\\d*\\.\\d*', string='$123.45'))\n",
    "print(pattern2)\n",
    "\n",
    "# Write the third pattern\n",
    "pattern3 = bool(re.match(pattern='[A-Z]', string='Australia'))\n",
    "print(pattern3)\n"
   ]
  },
  {
   "cell_type": "code",
   "execution_count": 134,
   "metadata": {
    "collapsed": false
   },
   "outputs": [
    {
     "name": "stdout",
     "output_type": "stream",
     "text": [
      "   total_bill   tip     sex smoker  day    time  size  sex_recode\n",
      "0       16.99  1.01  Female     No  Sun  Dinner     2           0\n",
      "1       10.34  1.66    Male     No  Sun  Dinner     3           1\n",
      "2       21.01  3.50    Male     No  Sun  Dinner     3           1\n",
      "3       23.68  3.31    Male     No  Sun  Dinner     2           1\n",
      "4       24.59  3.61  Female     No  Sun  Dinner     4           0\n"
     ]
    }
   ],
   "source": [
    "\"\"\"Custom function for cleaning data\"\"\"\n",
    "# Define recode_sex()\n",
    "def recode_sex(sex_value):\n",
    "\n",
    "    # Return 1 if sex_value is 'Male'\n",
    "    if sex_value== 'Male':\n",
    "        return 1\n",
    "    \n",
    "    # Return 0 if sex_value is 'Female'    \n",
    "    elif sex_value == 'Female':\n",
    "        return 0\n",
    "    \n",
    "    # Return np.nan    \n",
    "    else:\n",
    "        return np.nan\n",
    "\n",
    "# Apply the function to the sex column\n",
    "tips['sex_recode'] = tips.sex.apply(recode_sex)\n",
    "\n",
    "# Print the first five rows of tips\n",
    "print(tips.head())"
   ]
  }
 ],
 "metadata": {
  "kernelspec": {
   "display_name": "Python 3",
   "language": "python",
   "name": "python3"
  },
  "language_info": {
   "codemirror_mode": {
    "name": "ipython",
    "version": 3
   },
   "file_extension": ".py",
   "mimetype": "text/x-python",
   "name": "python",
   "nbconvert_exporter": "python",
   "pygments_lexer": "ipython3",
   "version": "3.6.0"
  }
 },
 "nbformat": 4,
 "nbformat_minor": 2
}
